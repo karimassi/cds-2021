{
 "cells": [
  {
   "cell_type": "markdown",
   "metadata": {
    "collapsed": true,
    "pycharm": {
     "name": "#%% md\n"
    }
   },
   "source": [
    "# Train shenanigans"
   ]
  },
  {
   "cell_type": "code",
   "execution_count": 13,
   "outputs": [],
   "source": [
    "import pandas as pd\n",
    "import networkx as nx\n",
    "from matplotlib import pyplot as plt\n",
    "import numpy as np\n",
    "from threading import Thread\n",
    "\n",
    "%matplotlib inline"
   ],
   "metadata": {
    "collapsed": false,
    "pycharm": {
     "name": "#%%\n"
    }
   }
  },
  {
   "cell_type": "code",
   "execution_count": 14,
   "outputs": [
    {
     "name": "stderr",
     "output_type": "stream",
     "text": [
      "C:\\ProgramData\\Anaconda3\\envs\\DeepLearning\\lib\\site-packages\\IPython\\core\\interactiveshell.py:3156: DtypeWarning: Columns (6,7,8) have mixed types.Specify dtype option on import or set low_memory=False.\n",
      "  interactivity=interactivity, compiler=compiler, result=result)\n"
     ]
    },
    {
     "data": {
      "text/plain": "  BETRIEBSTAG     FAHRT_BEZEICHNER BETREIBER_ID BETREIBER_ABK  \\\n0  01.04.2021  80:06____:17001:000    80:06____            DB   \n1  01.04.2021  80:06____:17003:000    80:06____            DB   \n2  01.04.2021  80:06____:17005:000    80:06____            DB   \n3  01.04.2021  80:06____:17006:000    80:06____            DB   \n4  01.04.2021  80:06____:17007:000    80:06____            DB   \n\n                  BETREIBER_NAME PRODUKT_ID LINIEN_ID LINIEN_TEXT UMLAUF_ID  \\\n0  DB Regio AG Baden-Württemberg        Zug     17001          RE       NaN   \n1  DB Regio AG Baden-Württemberg        Zug     17003          RE       NaN   \n2  DB Regio AG Baden-Württemberg        Zug     17005          RE       NaN   \n3  DB Regio AG Baden-Württemberg        Zug     17006          RE       NaN   \n4  DB Regio AG Baden-Württemberg        Zug     17007          RE       NaN   \n\n  VERKEHRSMITTEL_TEXT  ...  FAELLT_AUS_TF    BPUIC  HALTESTELLEN_NAME  \\\n0                  RE  ...          False  8500090       Basel Bad Bf   \n1                  RE  ...          False  8500090       Basel Bad Bf   \n2                  RE  ...           True  8500090       Basel Bad Bf   \n3                  RE  ...          False  8500090       Basel Bad Bf   \n4                  RE  ...           True  8500090       Basel Bad Bf   \n\n       ANKUNFTSZEIT          AN_PROGNOSE AN_PROGNOSE_STATUS      ABFAHRTSZEIT  \\\n0  01.04.2021 06:29  01.04.2021 06:30:00           PROGNOSE               NaN   \n1  01.04.2021 08:02  01.04.2021 08:04:00           PROGNOSE               NaN   \n2  01.04.2021 09:29                  NaN          UNBEKANNT               NaN   \n3               NaN                  NaN           PROGNOSE  01.04.2021 06:11   \n4  01.04.2021 10:02                  NaN          UNBEKANNT               NaN   \n\n  AB_PROGNOSE AB_PROGNOSE_STATUS DURCHFAHRT_TF  \n0         NaN           PROGNOSE         False  \n1         NaN           PROGNOSE         False  \n2         NaN          UNBEKANNT         False  \n3         NaN          UNBEKANNT         False  \n4         NaN          UNBEKANNT         False  \n\n[5 rows x 21 columns]",
      "text/html": "<div>\n<style scoped>\n    .dataframe tbody tr th:only-of-type {\n        vertical-align: middle;\n    }\n\n    .dataframe tbody tr th {\n        vertical-align: top;\n    }\n\n    .dataframe thead th {\n        text-align: right;\n    }\n</style>\n<table border=\"1\" class=\"dataframe\">\n  <thead>\n    <tr style=\"text-align: right;\">\n      <th></th>\n      <th>BETRIEBSTAG</th>\n      <th>FAHRT_BEZEICHNER</th>\n      <th>BETREIBER_ID</th>\n      <th>BETREIBER_ABK</th>\n      <th>BETREIBER_NAME</th>\n      <th>PRODUKT_ID</th>\n      <th>LINIEN_ID</th>\n      <th>LINIEN_TEXT</th>\n      <th>UMLAUF_ID</th>\n      <th>VERKEHRSMITTEL_TEXT</th>\n      <th>...</th>\n      <th>FAELLT_AUS_TF</th>\n      <th>BPUIC</th>\n      <th>HALTESTELLEN_NAME</th>\n      <th>ANKUNFTSZEIT</th>\n      <th>AN_PROGNOSE</th>\n      <th>AN_PROGNOSE_STATUS</th>\n      <th>ABFAHRTSZEIT</th>\n      <th>AB_PROGNOSE</th>\n      <th>AB_PROGNOSE_STATUS</th>\n      <th>DURCHFAHRT_TF</th>\n    </tr>\n  </thead>\n  <tbody>\n    <tr>\n      <th>0</th>\n      <td>01.04.2021</td>\n      <td>80:06____:17001:000</td>\n      <td>80:06____</td>\n      <td>DB</td>\n      <td>DB Regio AG Baden-Württemberg</td>\n      <td>Zug</td>\n      <td>17001</td>\n      <td>RE</td>\n      <td>NaN</td>\n      <td>RE</td>\n      <td>...</td>\n      <td>False</td>\n      <td>8500090</td>\n      <td>Basel Bad Bf</td>\n      <td>01.04.2021 06:29</td>\n      <td>01.04.2021 06:30:00</td>\n      <td>PROGNOSE</td>\n      <td>NaN</td>\n      <td>NaN</td>\n      <td>PROGNOSE</td>\n      <td>False</td>\n    </tr>\n    <tr>\n      <th>1</th>\n      <td>01.04.2021</td>\n      <td>80:06____:17003:000</td>\n      <td>80:06____</td>\n      <td>DB</td>\n      <td>DB Regio AG Baden-Württemberg</td>\n      <td>Zug</td>\n      <td>17003</td>\n      <td>RE</td>\n      <td>NaN</td>\n      <td>RE</td>\n      <td>...</td>\n      <td>False</td>\n      <td>8500090</td>\n      <td>Basel Bad Bf</td>\n      <td>01.04.2021 08:02</td>\n      <td>01.04.2021 08:04:00</td>\n      <td>PROGNOSE</td>\n      <td>NaN</td>\n      <td>NaN</td>\n      <td>PROGNOSE</td>\n      <td>False</td>\n    </tr>\n    <tr>\n      <th>2</th>\n      <td>01.04.2021</td>\n      <td>80:06____:17005:000</td>\n      <td>80:06____</td>\n      <td>DB</td>\n      <td>DB Regio AG Baden-Württemberg</td>\n      <td>Zug</td>\n      <td>17005</td>\n      <td>RE</td>\n      <td>NaN</td>\n      <td>RE</td>\n      <td>...</td>\n      <td>True</td>\n      <td>8500090</td>\n      <td>Basel Bad Bf</td>\n      <td>01.04.2021 09:29</td>\n      <td>NaN</td>\n      <td>UNBEKANNT</td>\n      <td>NaN</td>\n      <td>NaN</td>\n      <td>UNBEKANNT</td>\n      <td>False</td>\n    </tr>\n    <tr>\n      <th>3</th>\n      <td>01.04.2021</td>\n      <td>80:06____:17006:000</td>\n      <td>80:06____</td>\n      <td>DB</td>\n      <td>DB Regio AG Baden-Württemberg</td>\n      <td>Zug</td>\n      <td>17006</td>\n      <td>RE</td>\n      <td>NaN</td>\n      <td>RE</td>\n      <td>...</td>\n      <td>False</td>\n      <td>8500090</td>\n      <td>Basel Bad Bf</td>\n      <td>NaN</td>\n      <td>NaN</td>\n      <td>PROGNOSE</td>\n      <td>01.04.2021 06:11</td>\n      <td>NaN</td>\n      <td>UNBEKANNT</td>\n      <td>False</td>\n    </tr>\n    <tr>\n      <th>4</th>\n      <td>01.04.2021</td>\n      <td>80:06____:17007:000</td>\n      <td>80:06____</td>\n      <td>DB</td>\n      <td>DB Regio AG Baden-Württemberg</td>\n      <td>Zug</td>\n      <td>17007</td>\n      <td>RE</td>\n      <td>NaN</td>\n      <td>RE</td>\n      <td>...</td>\n      <td>True</td>\n      <td>8500090</td>\n      <td>Basel Bad Bf</td>\n      <td>01.04.2021 10:02</td>\n      <td>NaN</td>\n      <td>UNBEKANNT</td>\n      <td>NaN</td>\n      <td>NaN</td>\n      <td>UNBEKANNT</td>\n      <td>False</td>\n    </tr>\n  </tbody>\n</table>\n<p>5 rows × 21 columns</p>\n</div>"
     },
     "execution_count": 14,
     "metadata": {},
     "output_type": "execute_result"
    }
   ],
   "source": [
    "df = pd.read_csv('./train_data/2021-04-01_istdaten.csv', error_bad_lines=False, sep=';')\n",
    "df.head()"
   ],
   "metadata": {
    "collapsed": false,
    "pycharm": {
     "name": "#%%\n"
    }
   }
  },
  {
   "cell_type": "code",
   "execution_count": 19,
   "outputs": [
    {
     "data": {
      "text/plain": "      BETRIEBSTAG       FAHRT_BEZEICHNER BETREIBER_ID BETREIBER_ABK  \\\n87501  01.04.2021  85:146:256349-00795-1       85:146           STI   \n87502  01.04.2021  85:146:256349-00795-1       85:146           STI   \n87503  01.04.2021  85:146:256349-00795-1       85:146           STI   \n87504  01.04.2021  85:146:256349-00795-1       85:146           STI   \n87505  01.04.2021  85:146:256349-00795-1       85:146           STI   \n\n                BETREIBER_NAME PRODUKT_ID LINIEN_ID LINIEN_TEXT UMLAUF_ID  \\\n87501  Verkehrsbetriebe STI AG        Bus  85:146:1           1      10.0   \n87502  Verkehrsbetriebe STI AG        Bus  85:146:1           1      10.0   \n87503  Verkehrsbetriebe STI AG        Bus  85:146:1           1      10.0   \n87504  Verkehrsbetriebe STI AG        Bus  85:146:1           1      10.0   \n87505  Verkehrsbetriebe STI AG        Bus  85:146:1           1      10.0   \n\n      VERKEHRSMITTEL_TEXT  ...  FAELLT_AUS_TF    BPUIC  \\\n87501                   B  ...          False  8576333   \n87502                   B  ...          False  8591839   \n87503                   B  ...          False  8576338   \n87504                   B  ...          False  8588105   \n87505                   B  ...          False  8588104   \n\n            HALTESTELLEN_NAME      ANKUNFTSZEIT          AN_PROGNOSE  \\\n87501          Spiez, Bahnhof               NaN                  NaN   \n87502            Spiez, Krone  01.04.2021 05:31  01.04.2021 05:31:12   \n87503  Spiez, Oberlandstrasse  01.04.2021 05:32  01.04.2021 05:32:24   \n87504        Spiez, Spiezmoos  01.04.2021 05:33  01.04.2021 05:33:54   \n87505            Spiez, Kreuz  01.04.2021 05:35  01.04.2021 05:35:24   \n\n      AN_PROGNOSE_STATUS      ABFAHRTSZEIT          AB_PROGNOSE  \\\n87501           PROGNOSE  01.04.2021 05:30  01.04.2021 05:30:00   \n87502           PROGNOSE  01.04.2021 05:31  01.04.2021 05:31:12   \n87503           PROGNOSE  01.04.2021 05:32  01.04.2021 05:32:24   \n87504           PROGNOSE  01.04.2021 05:33  01.04.2021 05:33:54   \n87505           PROGNOSE  01.04.2021 05:35  01.04.2021 05:35:24   \n\n      AB_PROGNOSE_STATUS DURCHFAHRT_TF  \n87501           PROGNOSE         False  \n87502           PROGNOSE         False  \n87503           PROGNOSE         False  \n87504           PROGNOSE         False  \n87505           PROGNOSE         False  \n\n[5 rows x 21 columns]",
      "text/html": "<div>\n<style scoped>\n    .dataframe tbody tr th:only-of-type {\n        vertical-align: middle;\n    }\n\n    .dataframe tbody tr th {\n        vertical-align: top;\n    }\n\n    .dataframe thead th {\n        text-align: right;\n    }\n</style>\n<table border=\"1\" class=\"dataframe\">\n  <thead>\n    <tr style=\"text-align: right;\">\n      <th></th>\n      <th>BETRIEBSTAG</th>\n      <th>FAHRT_BEZEICHNER</th>\n      <th>BETREIBER_ID</th>\n      <th>BETREIBER_ABK</th>\n      <th>BETREIBER_NAME</th>\n      <th>PRODUKT_ID</th>\n      <th>LINIEN_ID</th>\n      <th>LINIEN_TEXT</th>\n      <th>UMLAUF_ID</th>\n      <th>VERKEHRSMITTEL_TEXT</th>\n      <th>...</th>\n      <th>FAELLT_AUS_TF</th>\n      <th>BPUIC</th>\n      <th>HALTESTELLEN_NAME</th>\n      <th>ANKUNFTSZEIT</th>\n      <th>AN_PROGNOSE</th>\n      <th>AN_PROGNOSE_STATUS</th>\n      <th>ABFAHRTSZEIT</th>\n      <th>AB_PROGNOSE</th>\n      <th>AB_PROGNOSE_STATUS</th>\n      <th>DURCHFAHRT_TF</th>\n    </tr>\n  </thead>\n  <tbody>\n    <tr>\n      <th>87501</th>\n      <td>01.04.2021</td>\n      <td>85:146:256349-00795-1</td>\n      <td>85:146</td>\n      <td>STI</td>\n      <td>Verkehrsbetriebe STI AG</td>\n      <td>Bus</td>\n      <td>85:146:1</td>\n      <td>1</td>\n      <td>10.0</td>\n      <td>B</td>\n      <td>...</td>\n      <td>False</td>\n      <td>8576333</td>\n      <td>Spiez, Bahnhof</td>\n      <td>NaN</td>\n      <td>NaN</td>\n      <td>PROGNOSE</td>\n      <td>01.04.2021 05:30</td>\n      <td>01.04.2021 05:30:00</td>\n      <td>PROGNOSE</td>\n      <td>False</td>\n    </tr>\n    <tr>\n      <th>87502</th>\n      <td>01.04.2021</td>\n      <td>85:146:256349-00795-1</td>\n      <td>85:146</td>\n      <td>STI</td>\n      <td>Verkehrsbetriebe STI AG</td>\n      <td>Bus</td>\n      <td>85:146:1</td>\n      <td>1</td>\n      <td>10.0</td>\n      <td>B</td>\n      <td>...</td>\n      <td>False</td>\n      <td>8591839</td>\n      <td>Spiez, Krone</td>\n      <td>01.04.2021 05:31</td>\n      <td>01.04.2021 05:31:12</td>\n      <td>PROGNOSE</td>\n      <td>01.04.2021 05:31</td>\n      <td>01.04.2021 05:31:12</td>\n      <td>PROGNOSE</td>\n      <td>False</td>\n    </tr>\n    <tr>\n      <th>87503</th>\n      <td>01.04.2021</td>\n      <td>85:146:256349-00795-1</td>\n      <td>85:146</td>\n      <td>STI</td>\n      <td>Verkehrsbetriebe STI AG</td>\n      <td>Bus</td>\n      <td>85:146:1</td>\n      <td>1</td>\n      <td>10.0</td>\n      <td>B</td>\n      <td>...</td>\n      <td>False</td>\n      <td>8576338</td>\n      <td>Spiez, Oberlandstrasse</td>\n      <td>01.04.2021 05:32</td>\n      <td>01.04.2021 05:32:24</td>\n      <td>PROGNOSE</td>\n      <td>01.04.2021 05:32</td>\n      <td>01.04.2021 05:32:24</td>\n      <td>PROGNOSE</td>\n      <td>False</td>\n    </tr>\n    <tr>\n      <th>87504</th>\n      <td>01.04.2021</td>\n      <td>85:146:256349-00795-1</td>\n      <td>85:146</td>\n      <td>STI</td>\n      <td>Verkehrsbetriebe STI AG</td>\n      <td>Bus</td>\n      <td>85:146:1</td>\n      <td>1</td>\n      <td>10.0</td>\n      <td>B</td>\n      <td>...</td>\n      <td>False</td>\n      <td>8588105</td>\n      <td>Spiez, Spiezmoos</td>\n      <td>01.04.2021 05:33</td>\n      <td>01.04.2021 05:33:54</td>\n      <td>PROGNOSE</td>\n      <td>01.04.2021 05:33</td>\n      <td>01.04.2021 05:33:54</td>\n      <td>PROGNOSE</td>\n      <td>False</td>\n    </tr>\n    <tr>\n      <th>87505</th>\n      <td>01.04.2021</td>\n      <td>85:146:256349-00795-1</td>\n      <td>85:146</td>\n      <td>STI</td>\n      <td>Verkehrsbetriebe STI AG</td>\n      <td>Bus</td>\n      <td>85:146:1</td>\n      <td>1</td>\n      <td>10.0</td>\n      <td>B</td>\n      <td>...</td>\n      <td>False</td>\n      <td>8588104</td>\n      <td>Spiez, Kreuz</td>\n      <td>01.04.2021 05:35</td>\n      <td>01.04.2021 05:35:24</td>\n      <td>PROGNOSE</td>\n      <td>01.04.2021 05:35</td>\n      <td>01.04.2021 05:35:24</td>\n      <td>PROGNOSE</td>\n      <td>False</td>\n    </tr>\n  </tbody>\n</table>\n<p>5 rows × 21 columns</p>\n</div>"
     },
     "execution_count": 19,
     "metadata": {},
     "output_type": "execute_result"
    }
   ],
   "source": [
    "df[df.UMLAUF_ID.isna() == False].head()"
   ],
   "metadata": {
    "collapsed": false,
    "pycharm": {
     "name": "#%%\n"
    }
   }
  },
  {
   "cell_type": "code",
   "execution_count": 15,
   "outputs": [
    {
     "data": {
      "text/plain": "Index(['BETRIEBSTAG', 'FAHRT_BEZEICHNER', 'BETREIBER_ID', 'BETREIBER_ABK',\n       'BETREIBER_NAME', 'PRODUKT_ID', 'LINIEN_ID', 'LINIEN_TEXT', 'UMLAUF_ID',\n       'VERKEHRSMITTEL_TEXT', 'ZUSATZFAHRT_TF', 'FAELLT_AUS_TF', 'BPUIC',\n       'HALTESTELLEN_NAME', 'ANKUNFTSZEIT', 'AN_PROGNOSE',\n       'AN_PROGNOSE_STATUS', 'ABFAHRTSZEIT', 'AB_PROGNOSE',\n       'AB_PROGNOSE_STATUS', 'DURCHFAHRT_TF'],\n      dtype='object')"
     },
     "execution_count": 15,
     "metadata": {},
     "output_type": "execute_result"
    }
   ],
   "source": [
    "df.columns"
   ],
   "metadata": {
    "collapsed": false,
    "pycharm": {
     "name": "#%%\n"
    }
   }
  },
  {
   "cell_type": "code",
   "execution_count": 20,
   "outputs": [
    {
     "data": {
      "text/plain": "         date              trip_id company_id company  \\\n0  01.04.2021  80:06____:17001:000  80:06____      DB   \n1  01.04.2021  80:06____:17003:000  80:06____      DB   \n2  01.04.2021  80:06____:17005:000  80:06____      DB   \n3  01.04.2021  80:06____:17006:000  80:06____      DB   \n4  01.04.2021  80:06____:17007:000  80:06____      DB   \n\n                    company_name product_id trip_id trip_type round_trip_id  \\\n0  DB Regio AG Baden-Württemberg        Zug   17001        RE           NaN   \n1  DB Regio AG Baden-Württemberg        Zug   17003        RE           NaN   \n2  DB Regio AG Baden-Württemberg        Zug   17005        RE           NaN   \n3  DB Regio AG Baden-Württemberg        Zug   17006        RE           NaN   \n4  DB Regio AG Baden-Württemberg        Zug   17007        RE           NaN   \n\n  transport_type  ...  is_cancelled    BPUIC  stop_station      arrival_time  \\\n0             RE  ...         False  8500090  Basel Bad Bf  01.04.2021 06:29   \n1             RE  ...         False  8500090  Basel Bad Bf  01.04.2021 08:02   \n2             RE  ...          True  8500090  Basel Bad Bf  01.04.2021 09:29   \n3             RE  ...         False  8500090  Basel Bad Bf               NaN   \n4             RE  ...          True  8500090  Basel Bad Bf  01.04.2021 10:02   \n\n          arrival_pred arrival_pred_status    departure_time departure_pred  \\\n0  01.04.2021 06:30:00            PROGNOSE               NaN            NaN   \n1  01.04.2021 08:04:00            PROGNOSE               NaN            NaN   \n2                  NaN           UNBEKANNT               NaN            NaN   \n3                  NaN            PROGNOSE  01.04.2021 06:11            NaN   \n4                  NaN           UNBEKANNT               NaN            NaN   \n\n  departure_pred_status is_transit  \n0              PROGNOSE      False  \n1              PROGNOSE      False  \n2             UNBEKANNT      False  \n3             UNBEKANNT      False  \n4             UNBEKANNT      False  \n\n[5 rows x 21 columns]",
      "text/html": "<div>\n<style scoped>\n    .dataframe tbody tr th:only-of-type {\n        vertical-align: middle;\n    }\n\n    .dataframe tbody tr th {\n        vertical-align: top;\n    }\n\n    .dataframe thead th {\n        text-align: right;\n    }\n</style>\n<table border=\"1\" class=\"dataframe\">\n  <thead>\n    <tr style=\"text-align: right;\">\n      <th></th>\n      <th>date</th>\n      <th>trip_id</th>\n      <th>company_id</th>\n      <th>company</th>\n      <th>company_name</th>\n      <th>product_id</th>\n      <th>trip_id</th>\n      <th>trip_type</th>\n      <th>round_trip_id</th>\n      <th>transport_type</th>\n      <th>...</th>\n      <th>is_cancelled</th>\n      <th>BPUIC</th>\n      <th>stop_station</th>\n      <th>arrival_time</th>\n      <th>arrival_pred</th>\n      <th>arrival_pred_status</th>\n      <th>departure_time</th>\n      <th>departure_pred</th>\n      <th>departure_pred_status</th>\n      <th>is_transit</th>\n    </tr>\n  </thead>\n  <tbody>\n    <tr>\n      <th>0</th>\n      <td>01.04.2021</td>\n      <td>80:06____:17001:000</td>\n      <td>80:06____</td>\n      <td>DB</td>\n      <td>DB Regio AG Baden-Württemberg</td>\n      <td>Zug</td>\n      <td>17001</td>\n      <td>RE</td>\n      <td>NaN</td>\n      <td>RE</td>\n      <td>...</td>\n      <td>False</td>\n      <td>8500090</td>\n      <td>Basel Bad Bf</td>\n      <td>01.04.2021 06:29</td>\n      <td>01.04.2021 06:30:00</td>\n      <td>PROGNOSE</td>\n      <td>NaN</td>\n      <td>NaN</td>\n      <td>PROGNOSE</td>\n      <td>False</td>\n    </tr>\n    <tr>\n      <th>1</th>\n      <td>01.04.2021</td>\n      <td>80:06____:17003:000</td>\n      <td>80:06____</td>\n      <td>DB</td>\n      <td>DB Regio AG Baden-Württemberg</td>\n      <td>Zug</td>\n      <td>17003</td>\n      <td>RE</td>\n      <td>NaN</td>\n      <td>RE</td>\n      <td>...</td>\n      <td>False</td>\n      <td>8500090</td>\n      <td>Basel Bad Bf</td>\n      <td>01.04.2021 08:02</td>\n      <td>01.04.2021 08:04:00</td>\n      <td>PROGNOSE</td>\n      <td>NaN</td>\n      <td>NaN</td>\n      <td>PROGNOSE</td>\n      <td>False</td>\n    </tr>\n    <tr>\n      <th>2</th>\n      <td>01.04.2021</td>\n      <td>80:06____:17005:000</td>\n      <td>80:06____</td>\n      <td>DB</td>\n      <td>DB Regio AG Baden-Württemberg</td>\n      <td>Zug</td>\n      <td>17005</td>\n      <td>RE</td>\n      <td>NaN</td>\n      <td>RE</td>\n      <td>...</td>\n      <td>True</td>\n      <td>8500090</td>\n      <td>Basel Bad Bf</td>\n      <td>01.04.2021 09:29</td>\n      <td>NaN</td>\n      <td>UNBEKANNT</td>\n      <td>NaN</td>\n      <td>NaN</td>\n      <td>UNBEKANNT</td>\n      <td>False</td>\n    </tr>\n    <tr>\n      <th>3</th>\n      <td>01.04.2021</td>\n      <td>80:06____:17006:000</td>\n      <td>80:06____</td>\n      <td>DB</td>\n      <td>DB Regio AG Baden-Württemberg</td>\n      <td>Zug</td>\n      <td>17006</td>\n      <td>RE</td>\n      <td>NaN</td>\n      <td>RE</td>\n      <td>...</td>\n      <td>False</td>\n      <td>8500090</td>\n      <td>Basel Bad Bf</td>\n      <td>NaN</td>\n      <td>NaN</td>\n      <td>PROGNOSE</td>\n      <td>01.04.2021 06:11</td>\n      <td>NaN</td>\n      <td>UNBEKANNT</td>\n      <td>False</td>\n    </tr>\n    <tr>\n      <th>4</th>\n      <td>01.04.2021</td>\n      <td>80:06____:17007:000</td>\n      <td>80:06____</td>\n      <td>DB</td>\n      <td>DB Regio AG Baden-Württemberg</td>\n      <td>Zug</td>\n      <td>17007</td>\n      <td>RE</td>\n      <td>NaN</td>\n      <td>RE</td>\n      <td>...</td>\n      <td>True</td>\n      <td>8500090</td>\n      <td>Basel Bad Bf</td>\n      <td>01.04.2021 10:02</td>\n      <td>NaN</td>\n      <td>UNBEKANNT</td>\n      <td>NaN</td>\n      <td>NaN</td>\n      <td>UNBEKANNT</td>\n      <td>False</td>\n    </tr>\n  </tbody>\n</table>\n<p>5 rows × 21 columns</p>\n</div>"
     },
     "execution_count": 20,
     "metadata": {},
     "output_type": "execute_result"
    }
   ],
   "source": [
    "columns_eng = ['date', 'trip_id', 'company_id', 'company', 'company_name', 'product_id', 'trip_id', 'trip_type', 'round_trip_id', 'transport_type', 'is_replacement', 'is_cancelled', 'BPUIC', 'stop_station', 'arrival_time', 'arrival_pred', 'arrival_pred_status', 'departure_time', 'departure_pred', 'departure_pred_status', 'is_transit']\n",
    "df.columns = columns_eng\n",
    "df.head()"
   ],
   "metadata": {
    "collapsed": false,
    "pycharm": {
     "name": "#%%\n"
    }
   }
  },
  {
   "cell_type": "code",
   "execution_count": 35,
   "outputs": [
    {
     "data": {
      "text/plain": "1283143                Salmsach, Bodana\n181962                   Lausanne, gare\n1607990    Bellevue GE, chemin des Clys\n158410                 Lausanne, Boston\n1520618             GenÃ¿ve, ClaparÃ¿de\nName: stop_station, dtype: object"
     },
     "execution_count": 35,
     "metadata": {},
     "output_type": "execute_result"
    }
   ],
   "source": [
    "df.stop_station.sample(5)"
   ],
   "metadata": {
    "collapsed": false,
    "pycharm": {
     "name": "#%%\n"
    }
   }
  },
  {
   "cell_type": "markdown",
   "source": [
    "This file doesn't include departure stations, rendering it pretty much useless. Found the GTFS data and gonna work with that instead\n",
    "___________\n",
    "# correct data\n",
    "Data [here](https://opentransportdata.swiss/dataset/1aff176a-9665-4395-a3b1-03e3032a0373/resource/05d05132-4fa6-44b0-a3d2-654d21a736ca/download/gtfs_fp2021_2021-03-31_09-10.zip)\n",
    "\n",
    "Data is comma-separated text files, so pd.read_csv should do fine.\n",
    "\n",
    "What we need from all the files:\n",
    "\n",
    "from `stops.txt` the geographical location of each stop and its name\n",
    "from `stop_times.txt` the arrival and departure times at each stop mentioned in `stops.txt`. The `trip_id` field can be used to identify stops belonging to a single trip"
   ],
   "metadata": {
    "collapsed": false,
    "pycharm": {
     "name": "#%% md\n"
    }
   }
  },
  {
   "cell_type": "markdown",
   "source": [
    "### HOW TO PROCEED:\n",
    "- [ ] join the two tables and keep only the necessary columns\n",
    "- [ ] Group the stops by trip to identify lines\n",
    "- [ ] Identify connections (trips departing from a stop slightly after the arrival of another trip at the same stop)\n",
    "- [ ] Build a connectivity graph\n",
    "- [x] ???\n",
    "- [ ] profit\n"
   ],
   "metadata": {
    "collapsed": false,
    "pycharm": {
     "name": "#%% md\n"
    }
   }
  }
 ],
 "metadata": {
  "kernelspec": {
   "display_name": "Python 3",
   "language": "python",
   "name": "python3"
  },
  "language_info": {
   "codemirror_mode": {
    "name": "ipython",
    "version": 2
   },
   "file_extension": ".py",
   "mimetype": "text/x-python",
   "name": "python",
   "nbconvert_exporter": "python",
   "pygments_lexer": "ipython2",
   "version": "2.7.6"
  }
 },
 "nbformat": 4,
 "nbformat_minor": 0
}