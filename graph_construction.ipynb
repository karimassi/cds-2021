{
 "cells": [
  {
   "cell_type": "code",
   "execution_count": 1,
   "metadata": {},
   "outputs": [],
   "source": [
    "import folium\n",
    "import pickle\n",
    "import pandas as pd\n",
    "import networkx as nx\n",
    "import reverse_geocoder as rg"
   ]
  },
  {
   "cell_type": "markdown",
   "metadata": {},
   "source": [
    "## Loading the Data"
   ]
  },
  {
   "cell_type": "markdown",
   "metadata": {},
   "source": [
    "We first load the files that interest us in DataFrames:\n",
    "- The file `routes` contains route information, and especially the description of the route (i.e. is it for trams, buses, metro, train, etc)\n",
    "- The file `trips` contains trip information, and especially the route each trip uses\n",
    "- The file `stop_times` contains all stop information for each trip, especially the stop id\n",
    "- The file `stop` contains all geographical information for each stop"
   ]
  },
  {
   "cell_type": "code",
   "execution_count": 2,
   "metadata": {},
   "outputs": [],
   "source": [
    "DATA_PATH = 'data/raw'\n",
    "PROCESSED_PATH = 'data/processed'\n",
    "WEBSITE_PATH = 'docs'"
   ]
  },
  {
   "cell_type": "code",
   "execution_count": 3,
   "metadata": {},
   "outputs": [
    {
     "data": {
      "text/html": [
       "<div>\n",
       "<style scoped>\n",
       "    .dataframe tbody tr th:only-of-type {\n",
       "        vertical-align: middle;\n",
       "    }\n",
       "\n",
       "    .dataframe tbody tr th {\n",
       "        vertical-align: top;\n",
       "    }\n",
       "\n",
       "    .dataframe thead th {\n",
       "        text-align: right;\n",
       "    }\n",
       "</style>\n",
       "<table border=\"1\" class=\"dataframe\">\n",
       "  <thead>\n",
       "    <tr style=\"text-align: right;\">\n",
       "      <th></th>\n",
       "      <th>route_id</th>\n",
       "      <th>agency_id</th>\n",
       "      <th>route_short_name</th>\n",
       "      <th>route_long_name</th>\n",
       "      <th>route_desc</th>\n",
       "      <th>route_type</th>\n",
       "    </tr>\n",
       "  </thead>\n",
       "  <tbody>\n",
       "    <tr>\n",
       "      <th>0</th>\n",
       "      <td>91-10-A-j21-1</td>\n",
       "      <td>37</td>\n",
       "      <td>10</td>\n",
       "      <td>NaN</td>\n",
       "      <td>Tram</td>\n",
       "      <td>900</td>\n",
       "    </tr>\n",
       "  </tbody>\n",
       "</table>\n",
       "</div>"
      ],
      "text/plain": [
       "        route_id agency_id route_short_name  route_long_name route_desc  \\\n",
       "0  91-10-A-j21-1        37               10              NaN       Tram   \n",
       "\n",
       "   route_type  \n",
       "0         900  "
      ]
     },
     "execution_count": 3,
     "metadata": {},
     "output_type": "execute_result"
    }
   ],
   "source": [
    "routes = pd.read_csv('{}/routes.txt'.format(DATA_PATH), delimiter=',')\n",
    "routes.head(1)"
   ]
  },
  {
   "cell_type": "code",
   "execution_count": 4,
   "metadata": {},
   "outputs": [
    {
     "data": {
      "text/html": [
       "<div>\n",
       "<style scoped>\n",
       "    .dataframe tbody tr th:only-of-type {\n",
       "        vertical-align: middle;\n",
       "    }\n",
       "\n",
       "    .dataframe tbody tr th {\n",
       "        vertical-align: top;\n",
       "    }\n",
       "\n",
       "    .dataframe thead th {\n",
       "        text-align: right;\n",
       "    }\n",
       "</style>\n",
       "<table border=\"1\" class=\"dataframe\">\n",
       "  <thead>\n",
       "    <tr style=\"text-align: right;\">\n",
       "      <th></th>\n",
       "      <th>route_id</th>\n",
       "      <th>service_id</th>\n",
       "      <th>trip_id</th>\n",
       "      <th>trip_headsign</th>\n",
       "      <th>trip_short_name</th>\n",
       "      <th>direction_id</th>\n",
       "    </tr>\n",
       "  </thead>\n",
       "  <tbody>\n",
       "    <tr>\n",
       "      <th>0</th>\n",
       "      <td>91-10-A-j21-1</td>\n",
       "      <td>TA+ej</td>\n",
       "      <td>1.TA.91-10-A-j21-1.1.H</td>\n",
       "      <td>Ettingen, Bahnhof</td>\n",
       "      <td>10100</td>\n",
       "      <td>0</td>\n",
       "    </tr>\n",
       "  </tbody>\n",
       "</table>\n",
       "</div>"
      ],
      "text/plain": [
       "        route_id service_id                 trip_id      trip_headsign  \\\n",
       "0  91-10-A-j21-1      TA+ej  1.TA.91-10-A-j21-1.1.H  Ettingen, Bahnhof   \n",
       "\n",
       "   trip_short_name  direction_id  \n",
       "0            10100             0  "
      ]
     },
     "execution_count": 4,
     "metadata": {},
     "output_type": "execute_result"
    }
   ],
   "source": [
    "trips = pd.read_csv('{}/trips.txt'.format(DATA_PATH), delimiter=',')\n",
    "trips.head(1)"
   ]
  },
  {
   "cell_type": "code",
   "execution_count": 5,
   "metadata": {},
   "outputs": [
    {
     "data": {
      "text/html": [
       "<div>\n",
       "<style scoped>\n",
       "    .dataframe tbody tr th:only-of-type {\n",
       "        vertical-align: middle;\n",
       "    }\n",
       "\n",
       "    .dataframe tbody tr th {\n",
       "        vertical-align: top;\n",
       "    }\n",
       "\n",
       "    .dataframe thead th {\n",
       "        text-align: right;\n",
       "    }\n",
       "</style>\n",
       "<table border=\"1\" class=\"dataframe\">\n",
       "  <thead>\n",
       "    <tr style=\"text-align: right;\">\n",
       "      <th></th>\n",
       "      <th>trip_id</th>\n",
       "      <th>arrival_time</th>\n",
       "      <th>departure_time</th>\n",
       "      <th>stop_id</th>\n",
       "      <th>stop_sequence</th>\n",
       "      <th>pickup_type</th>\n",
       "      <th>drop_off_type</th>\n",
       "    </tr>\n",
       "  </thead>\n",
       "  <tbody>\n",
       "    <tr>\n",
       "      <th>0</th>\n",
       "      <td>120.TA.91-4-H-j21-1.9.R</td>\n",
       "      <td>13:58:00</td>\n",
       "      <td>13:58:00</td>\n",
       "      <td>8503088:0:21</td>\n",
       "      <td>1</td>\n",
       "      <td>0</td>\n",
       "      <td>0</td>\n",
       "    </tr>\n",
       "  </tbody>\n",
       "</table>\n",
       "</div>"
      ],
      "text/plain": [
       "                   trip_id arrival_time departure_time       stop_id  \\\n",
       "0  120.TA.91-4-H-j21-1.9.R     13:58:00       13:58:00  8503088:0:21   \n",
       "\n",
       "   stop_sequence  pickup_type  drop_off_type  \n",
       "0              1            0              0  "
      ]
     },
     "execution_count": 5,
     "metadata": {},
     "output_type": "execute_result"
    }
   ],
   "source": [
    "stop_times = pd.read_csv('{}/stop_times.txt'.format(DATA_PATH), delimiter=',', dtype={'stop_id':'string'})\n",
    "stop_times.head(1)"
   ]
  },
  {
   "cell_type": "code",
   "execution_count": 6,
   "metadata": {},
   "outputs": [
    {
     "data": {
      "text/html": [
       "<div>\n",
       "<style scoped>\n",
       "    .dataframe tbody tr th:only-of-type {\n",
       "        vertical-align: middle;\n",
       "    }\n",
       "\n",
       "    .dataframe tbody tr th {\n",
       "        vertical-align: top;\n",
       "    }\n",
       "\n",
       "    .dataframe thead th {\n",
       "        text-align: right;\n",
       "    }\n",
       "</style>\n",
       "<table border=\"1\" class=\"dataframe\">\n",
       "  <thead>\n",
       "    <tr style=\"text-align: right;\">\n",
       "      <th></th>\n",
       "      <th>stop_id</th>\n",
       "      <th>stop_name</th>\n",
       "      <th>stop_lat</th>\n",
       "      <th>stop_lon</th>\n",
       "      <th>location_type</th>\n",
       "      <th>parent_station</th>\n",
       "    </tr>\n",
       "  </thead>\n",
       "  <tbody>\n",
       "    <tr>\n",
       "      <th>0</th>\n",
       "      <td>1100006</td>\n",
       "      <td>Zell (Wiesental), Bahnhof</td>\n",
       "      <td>47.704632</td>\n",
       "      <td>7.847772</td>\n",
       "      <td>NaN</td>\n",
       "      <td>NaN</td>\n",
       "    </tr>\n",
       "  </tbody>\n",
       "</table>\n",
       "</div>"
      ],
      "text/plain": [
       "   stop_id                  stop_name   stop_lat  stop_lon  location_type  \\\n",
       "0  1100006  Zell (Wiesental), Bahnhof  47.704632  7.847772            NaN   \n",
       "\n",
       "  parent_station  \n",
       "0            NaN  "
      ]
     },
     "execution_count": 6,
     "metadata": {},
     "output_type": "execute_result"
    }
   ],
   "source": [
    "stops = pd.read_csv('{}/stops.txt'.format(DATA_PATH), delimiter=',')\n",
    "stops.head(1)"
   ]
  },
  {
   "cell_type": "code",
   "execution_count": 7,
   "metadata": {},
   "outputs": [
    {
     "data": {
      "text/plain": [
       "monday       15175\n",
       "tuesday      14905\n",
       "wednesday    15117\n",
       "thursday     15479\n",
       "friday       14916\n",
       "saturday     11456\n",
       "sunday       11323\n",
       "dtype: int64"
      ]
     },
     "execution_count": 7,
     "metadata": {},
     "output_type": "execute_result"
    }
   ],
   "source": [
    "# Read the service dates\n",
    "services = pd.read_csv('{}/calendar.txt'.format(DATA_PATH), delimiter=',')\n",
    "services[['monday', 'tuesday', 'wednesday', 'thursday', 'friday', 'saturday', 'sunday']].sum(axis = 0)"
   ]
  },
  {
   "cell_type": "markdown",
   "metadata": {},
   "source": [
    "We can see that the day with the most services is Thursday. We'll therefore keep services that run on that day. That way, we can have a representative overview of a \"busy\" day on the railway network."
   ]
  },
  {
   "cell_type": "code",
   "execution_count": 8,
   "metadata": {},
   "outputs": [],
   "source": [
    "thursday_services = services[services.thursday == 1]"
   ]
  },
  {
   "cell_type": "code",
   "execution_count": 9,
   "metadata": {},
   "outputs": [
    {
     "data": {
      "text/html": [
       "<div>\n",
       "<style scoped>\n",
       "    .dataframe tbody tr th:only-of-type {\n",
       "        vertical-align: middle;\n",
       "    }\n",
       "\n",
       "    .dataframe tbody tr th {\n",
       "        vertical-align: top;\n",
       "    }\n",
       "\n",
       "    .dataframe thead th {\n",
       "        text-align: right;\n",
       "    }\n",
       "</style>\n",
       "<table border=\"1\" class=\"dataframe\">\n",
       "  <thead>\n",
       "    <tr style=\"text-align: right;\">\n",
       "      <th></th>\n",
       "      <th>stop_name</th>\n",
       "      <th>daily_count</th>\n",
       "    </tr>\n",
       "  </thead>\n",
       "  <tbody>\n",
       "    <tr>\n",
       "      <th>0</th>\n",
       "      <td>Aarau</td>\n",
       "      <td>37900</td>\n",
       "    </tr>\n",
       "    <tr>\n",
       "      <th>1</th>\n",
       "      <td>Aathal</td>\n",
       "      <td>740</td>\n",
       "    </tr>\n",
       "    <tr>\n",
       "      <th>2</th>\n",
       "      <td>Aarburg-Oftringen</td>\n",
       "      <td>2500</td>\n",
       "    </tr>\n",
       "    <tr>\n",
       "      <th>3</th>\n",
       "      <td>Acla da Fontauna</td>\n",
       "      <td>90</td>\n",
       "    </tr>\n",
       "    <tr>\n",
       "      <th>4</th>\n",
       "      <td>Aadorf</td>\n",
       "      <td>1700</td>\n",
       "    </tr>\n",
       "  </tbody>\n",
       "</table>\n",
       "</div>"
      ],
      "text/plain": [
       "           stop_name daily_count\n",
       "0              Aarau       37900\n",
       "1             Aathal         740\n",
       "2  Aarburg-Oftringen        2500\n",
       "3   Acla da Fontauna          90\n",
       "4             Aadorf        1700"
      ]
     },
     "execution_count": 9,
     "metadata": {},
     "output_type": "execute_result"
    }
   ],
   "source": [
    "passenger_data = pd.read_excel('{}/peinaussteiger2018.xlsx'.format(DATA_PATH), usecols=[1, 4], names = ['stop_name', 'daily_count'])\n",
    "passenger_data.head()"
   ]
  },
  {
   "cell_type": "markdown",
   "metadata": {},
   "source": [
    "## Cleaning the Data"
   ]
  },
  {
   "cell_type": "markdown",
   "metadata": {},
   "source": [
    "Now that the data is loaded, we're interested in keeping the stops that correspond to modes of transport that interest us, that is, railway transportation. In order to achieve this:\n",
    "- We filter out the routes that do not interest us\n",
    "- Subsequently, we filter our the trips using routes that do not interest us\n",
    "- We remove stops of trips that do not interest us"
   ]
  },
  {
   "cell_type": "code",
   "execution_count": 10,
   "metadata": {},
   "outputs": [
    {
     "name": "stdout",
     "output_type": "stream",
     "text": [
      "Loading formatted geocoded file...\n"
     ]
    }
   ],
   "source": [
    "# Get country info for stops, to keep only the ones in CH\n",
    "countries = [geo['cc'] for geo in rg.search(list(zip(stops.stop_lat, stops.stop_lon)))]\n",
    "stops['cc'] = countries"
   ]
  },
  {
   "cell_type": "code",
   "execution_count": 11,
   "metadata": {},
   "outputs": [],
   "source": [
    "# Keep trains only\n",
    "modes_of_interest = [101, 102, 103, 105, 106, 107, 109]\n",
    "\n",
    "regional_routes = [106, 107, 109]\n",
    "grandes_lignes = [101, 102, 103, 105]"
   ]
  },
  {
   "cell_type": "code",
   "execution_count": 12,
   "metadata": {},
   "outputs": [],
   "source": [
    "# Filter and keep routes, trips and stop times that interest us\n",
    "routes = routes[routes.route_type.isin(modes_of_interest)]\n",
    "\n",
    "# Keep trips with services on Thursday (busiest day)\n",
    "trips = trips[trips.route_id.isin(routes.route_id.unique()) & (trips.service_id.isin(thursday_services.service_id))].copy()\n",
    "trips.drop_duplicates(subset = ['trip_short_name', 'direction_id', 'trip_headsign'], inplace = True)\n",
    "\n",
    "stop_times = stop_times[stop_times.trip_id.isin(trips.trip_id.unique())].copy()"
   ]
  },
  {
   "cell_type": "code",
   "execution_count": 13,
   "metadata": {},
   "outputs": [],
   "source": [
    "# Keep stops that are in the filtered stop times and in CH\n",
    "railway_stops = stops[(stops.stop_id.isin(stop_times.stop_id.unique())) & (stops.cc == 'CH')].copy()"
   ]
  },
  {
   "cell_type": "code",
   "execution_count": 14,
   "metadata": {},
   "outputs": [
    {
     "data": {
      "text/html": [
       "<div>\n",
       "<style scoped>\n",
       "    .dataframe tbody tr th:only-of-type {\n",
       "        vertical-align: middle;\n",
       "    }\n",
       "\n",
       "    .dataframe tbody tr th {\n",
       "        vertical-align: top;\n",
       "    }\n",
       "\n",
       "    .dataframe thead th {\n",
       "        text-align: right;\n",
       "    }\n",
       "</style>\n",
       "<table border=\"1\" class=\"dataframe\">\n",
       "  <thead>\n",
       "    <tr style=\"text-align: right;\">\n",
       "      <th></th>\n",
       "      <th>stop_id</th>\n",
       "      <th>stop_name</th>\n",
       "      <th>stop_lat</th>\n",
       "      <th>stop_lon</th>\n",
       "      <th>location_type</th>\n",
       "      <th>parent_station</th>\n",
       "      <th>cc</th>\n",
       "    </tr>\n",
       "  </thead>\n",
       "  <tbody>\n",
       "    <tr>\n",
       "      <th>5800</th>\n",
       "      <td>8501120:0:1</td>\n",
       "      <td>Lausanne</td>\n",
       "      <td>46.516793</td>\n",
       "      <td>6.629091</td>\n",
       "      <td>NaN</td>\n",
       "      <td>8501120P</td>\n",
       "      <td>CH</td>\n",
       "    </tr>\n",
       "    <tr>\n",
       "      <th>5801</th>\n",
       "      <td>8501120:0:3</td>\n",
       "      <td>Lausanne</td>\n",
       "      <td>46.516793</td>\n",
       "      <td>6.629091</td>\n",
       "      <td>NaN</td>\n",
       "      <td>8501120P</td>\n",
       "      <td>CH</td>\n",
       "    </tr>\n",
       "    <tr>\n",
       "      <th>5802</th>\n",
       "      <td>8501120:0:4</td>\n",
       "      <td>Lausanne</td>\n",
       "      <td>46.516793</td>\n",
       "      <td>6.629091</td>\n",
       "      <td>NaN</td>\n",
       "      <td>8501120P</td>\n",
       "      <td>CH</td>\n",
       "    </tr>\n",
       "    <tr>\n",
       "      <th>5803</th>\n",
       "      <td>8501120:0:5</td>\n",
       "      <td>Lausanne</td>\n",
       "      <td>46.516793</td>\n",
       "      <td>6.629091</td>\n",
       "      <td>NaN</td>\n",
       "      <td>8501120P</td>\n",
       "      <td>CH</td>\n",
       "    </tr>\n",
       "    <tr>\n",
       "      <th>5804</th>\n",
       "      <td>8501120:0:6</td>\n",
       "      <td>Lausanne</td>\n",
       "      <td>46.516793</td>\n",
       "      <td>6.629091</td>\n",
       "      <td>NaN</td>\n",
       "      <td>8501120P</td>\n",
       "      <td>CH</td>\n",
       "    </tr>\n",
       "  </tbody>\n",
       "</table>\n",
       "</div>"
      ],
      "text/plain": [
       "          stop_id stop_name   stop_lat  stop_lon  location_type  \\\n",
       "5800  8501120:0:1  Lausanne  46.516793  6.629091            NaN   \n",
       "5801  8501120:0:3  Lausanne  46.516793  6.629091            NaN   \n",
       "5802  8501120:0:4  Lausanne  46.516793  6.629091            NaN   \n",
       "5803  8501120:0:5  Lausanne  46.516793  6.629091            NaN   \n",
       "5804  8501120:0:6  Lausanne  46.516793  6.629091            NaN   \n",
       "\n",
       "     parent_station  cc  \n",
       "5800       8501120P  CH  \n",
       "5801       8501120P  CH  \n",
       "5802       8501120P  CH  \n",
       "5803       8501120P  CH  \n",
       "5804       8501120P  CH  "
      ]
     },
     "execution_count": 14,
     "metadata": {},
     "output_type": "execute_result"
    }
   ],
   "source": [
    "railway_stops[railway_stops.stop_name == 'Lausanne'].head()"
   ]
  },
  {
   "cell_type": "markdown",
   "metadata": {},
   "source": [
    "Notice that some large main stations have multiple stop identifiers: all of these ids share a same prefix. We therefore edit all ids to just include the prefix and then drop duplicates."
   ]
  },
  {
   "cell_type": "code",
   "execution_count": 15,
   "metadata": {},
   "outputs": [],
   "source": [
    "# Remove the suffix of the ids of the same stations \n",
    "railway_stops['stop_id'] = railway_stops['stop_id'].apply(lambda id_: id_.split(':')[0])\n",
    "# Cleanup\n",
    "railway_stops.drop_duplicates(subset=['stop_id'], inplace=True)\n",
    "railway_stops.drop(columns = ['location_type', 'parent_station'], inplace = True)"
   ]
  },
  {
   "cell_type": "code",
   "execution_count": 16,
   "metadata": {},
   "outputs": [
    {
     "data": {
      "text/html": [
       "<div>\n",
       "<style scoped>\n",
       "    .dataframe tbody tr th:only-of-type {\n",
       "        vertical-align: middle;\n",
       "    }\n",
       "\n",
       "    .dataframe tbody tr th {\n",
       "        vertical-align: top;\n",
       "    }\n",
       "\n",
       "    .dataframe thead th {\n",
       "        text-align: right;\n",
       "    }\n",
       "</style>\n",
       "<table border=\"1\" class=\"dataframe\">\n",
       "  <thead>\n",
       "    <tr style=\"text-align: right;\">\n",
       "      <th></th>\n",
       "      <th>stop_id</th>\n",
       "      <th>stop_name</th>\n",
       "      <th>stop_lat</th>\n",
       "      <th>stop_lon</th>\n",
       "      <th>cc</th>\n",
       "    </tr>\n",
       "  </thead>\n",
       "  <tbody>\n",
       "    <tr>\n",
       "      <th>5800</th>\n",
       "      <td>8501120</td>\n",
       "      <td>Lausanne</td>\n",
       "      <td>46.516793</td>\n",
       "      <td>6.629091</td>\n",
       "      <td>CH</td>\n",
       "    </tr>\n",
       "  </tbody>\n",
       "</table>\n",
       "</div>"
      ],
      "text/plain": [
       "      stop_id stop_name   stop_lat  stop_lon  cc\n",
       "5800  8501120  Lausanne  46.516793  6.629091  CH"
      ]
     },
     "execution_count": 16,
     "metadata": {},
     "output_type": "execute_result"
    }
   ],
   "source": [
    "railway_stops[railway_stops.stop_name == 'Lausanne']"
   ]
  },
  {
   "cell_type": "code",
   "execution_count": 17,
   "metadata": {},
   "outputs": [
    {
     "name": "stdout",
     "output_type": "stream",
     "text": [
      "Initially, there are 36448 stops when considering all modes of transport.\n",
      "By considering only railway transport, we are left with 1663 stops in Switzerland.\n"
     ]
    }
   ],
   "source": [
    "print('Initially, there are {} stops when considering all modes of transport.'.format(len(stops)))\n",
    "print('By considering only railway transport, we are left with {} stops in Switzerland.'.format(len(railway_stops)))"
   ]
  },
  {
   "cell_type": "code",
   "execution_count": 18,
   "metadata": {},
   "outputs": [],
   "source": [
    "# Maintain this dict for ease of retrieval\n",
    "stop_id_to_name = railway_stops.set_index('stop_id')['stop_name'].to_dict()"
   ]
  },
  {
   "cell_type": "code",
   "execution_count": 19,
   "metadata": {},
   "outputs": [],
   "source": [
    "# Remove the suffix of the ids of the same stations \n",
    "stop_times['stop_id'] = stop_times['stop_id'].apply(lambda id_: str(id_).split(':')[0])\n",
    "# Remove stop times that correspond to removed stops\n",
    "stop_times = stop_times[stop_times.stop_id.isin(railway_stops.stop_id)]\n",
    "\n",
    "# If a train arrives then leaves at the same time from the same stop -> probably a duplicate \n",
    "stop_times.drop_duplicates(subset = ['arrival_time', 'departure_time', 'stop_id'], inplace = True)"
   ]
  },
  {
   "cell_type": "markdown",
   "metadata": {},
   "source": [
    "Let's now clean the passenger data to be able to merge it with the railway stops data. "
   ]
  },
  {
   "cell_type": "code",
   "execution_count": 20,
   "metadata": {},
   "outputs": [
    {
     "name": "stdout",
     "output_type": "stream",
     "text": [
      "We have passenger frequency data for 906 stations, while we have a total of 1663 stations in the original dataset.\n"
     ]
    }
   ],
   "source": [
    "print(f'We have passenger frequency data for {len(passenger_data)} stations, while we have a total of {len(railway_stops)} stations in the original dataset.')"
   ]
  },
  {
   "cell_type": "code",
   "execution_count": 21,
   "metadata": {},
   "outputs": [
    {
     "data": {
      "text/html": [
       "<div>\n",
       "<style scoped>\n",
       "    .dataframe tbody tr th:only-of-type {\n",
       "        vertical-align: middle;\n",
       "    }\n",
       "\n",
       "    .dataframe tbody tr th {\n",
       "        vertical-align: top;\n",
       "    }\n",
       "\n",
       "    .dataframe thead th {\n",
       "        text-align: right;\n",
       "    }\n",
       "</style>\n",
       "<table border=\"1\" class=\"dataframe\">\n",
       "  <thead>\n",
       "    <tr style=\"text-align: right;\">\n",
       "      <th></th>\n",
       "      <th>stop_name</th>\n",
       "      <th>daily_count</th>\n",
       "    </tr>\n",
       "  </thead>\n",
       "  <tbody>\n",
       "    <tr>\n",
       "      <th>18</th>\n",
       "      <td>Alvaneu</td>\n",
       "      <td>&lt;50</td>\n",
       "    </tr>\n",
       "    <tr>\n",
       "      <th>28</th>\n",
       "      <td>Altmatt</td>\n",
       "      <td>&lt;50</td>\n",
       "    </tr>\n",
       "    <tr>\n",
       "      <th>49</th>\n",
       "      <td>Bernina Lagalb</td>\n",
       "      <td>&lt;50</td>\n",
       "    </tr>\n",
       "    <tr>\n",
       "      <th>54</th>\n",
       "      <td>Bernina Suot</td>\n",
       "      <td>&lt;50</td>\n",
       "    </tr>\n",
       "    <tr>\n",
       "      <th>66</th>\n",
       "      <td>Biberegg</td>\n",
       "      <td>&lt;50</td>\n",
       "    </tr>\n",
       "  </tbody>\n",
       "</table>\n",
       "</div>"
      ],
      "text/plain": [
       "         stop_name daily_count\n",
       "18         Alvaneu         <50\n",
       "28         Altmatt         <50\n",
       "49  Bernina Lagalb         <50\n",
       "54    Bernina Suot         <50\n",
       "66        Biberegg         <50"
      ]
     },
     "execution_count": 21,
     "metadata": {},
     "output_type": "execute_result"
    }
   ],
   "source": [
    "passenger_data[passenger_data.daily_count == '<50'].head()"
   ]
  },
  {
   "cell_type": "markdown",
   "metadata": {},
   "source": [
    "There are a few cities where the weekly count is `<50`: let's replace that by 50, and set the missing data to have a daily count of 0."
   ]
  },
  {
   "cell_type": "code",
   "execution_count": 22,
   "metadata": {},
   "outputs": [
    {
     "data": {
      "text/html": [
       "<div>\n",
       "<style scoped>\n",
       "    .dataframe tbody tr th:only-of-type {\n",
       "        vertical-align: middle;\n",
       "    }\n",
       "\n",
       "    .dataframe tbody tr th {\n",
       "        vertical-align: top;\n",
       "    }\n",
       "\n",
       "    .dataframe thead th {\n",
       "        text-align: right;\n",
       "    }\n",
       "</style>\n",
       "<table border=\"1\" class=\"dataframe\">\n",
       "  <thead>\n",
       "    <tr style=\"text-align: right;\">\n",
       "      <th></th>\n",
       "      <th>stop_id</th>\n",
       "      <th>stop_name</th>\n",
       "      <th>stop_lat</th>\n",
       "      <th>stop_lon</th>\n",
       "      <th>cc</th>\n",
       "      <th>daily_count</th>\n",
       "    </tr>\n",
       "  </thead>\n",
       "  <tbody>\n",
       "    <tr>\n",
       "      <th>561</th>\n",
       "      <td>8503000</td>\n",
       "      <td>Zürich HB</td>\n",
       "      <td>47.378176</td>\n",
       "      <td>8.540212</td>\n",
       "      <td>CH</td>\n",
       "      <td>423600.0</td>\n",
       "    </tr>\n",
       "    <tr>\n",
       "      <th>1224</th>\n",
       "      <td>8507000</td>\n",
       "      <td>Bern</td>\n",
       "      <td>46.948831</td>\n",
       "      <td>7.439129</td>\n",
       "      <td>CH</td>\n",
       "      <td>184000.0</td>\n",
       "    </tr>\n",
       "    <tr>\n",
       "      <th>19</th>\n",
       "      <td>8500010</td>\n",
       "      <td>Basel SBB</td>\n",
       "      <td>47.547413</td>\n",
       "      <td>7.589560</td>\n",
       "      <td>CH</td>\n",
       "      <td>99800.0</td>\n",
       "    </tr>\n",
       "    <tr>\n",
       "      <th>1030</th>\n",
       "      <td>8506000</td>\n",
       "      <td>Winterthur</td>\n",
       "      <td>47.500333</td>\n",
       "      <td>8.723818</td>\n",
       "      <td>CH</td>\n",
       "      <td>95100.0</td>\n",
       "    </tr>\n",
       "    <tr>\n",
       "      <th>949</th>\n",
       "      <td>8505000</td>\n",
       "      <td>Luzern</td>\n",
       "      <td>47.050176</td>\n",
       "      <td>8.310180</td>\n",
       "      <td>CH</td>\n",
       "      <td>90800.0</td>\n",
       "    </tr>\n",
       "  </tbody>\n",
       "</table>\n",
       "</div>"
      ],
      "text/plain": [
       "      stop_id   stop_name   stop_lat  stop_lon  cc  daily_count\n",
       "561   8503000   Zürich HB  47.378176  8.540212  CH     423600.0\n",
       "1224  8507000        Bern  46.948831  7.439129  CH     184000.0\n",
       "19    8500010   Basel SBB  47.547413  7.589560  CH      99800.0\n",
       "1030  8506000  Winterthur  47.500333  8.723818  CH      95100.0\n",
       "949   8505000      Luzern  47.050176  8.310180  CH      90800.0"
      ]
     },
     "execution_count": 22,
     "metadata": {},
     "output_type": "execute_result"
    }
   ],
   "source": [
    "# Add passenger data to railway stops data\n",
    "# Replace '<50' by 50, and missing data by 0\n",
    "passenger_data.replace(to_replace = '<50', value = 50, inplace = True)\n",
    "railway_stops = railway_stops.merge(passenger_data, how = 'left').fillna(0).sort_values('daily_count', ascending = False)\n",
    "railway_stops.head()"
   ]
  },
  {
   "cell_type": "markdown",
   "metadata": {},
   "source": [
    "Now that we have all the stops corresponding railway stops in Switzerland (i.e. the nodes), we can proceed to create the edges of the desired graph. Group all stop times by the trip id and form a list of stops per trip. Keep only trips that have more than 1 stop. Trips having 1 stop exist because we removed stops outside of Switzerland."
   ]
  },
  {
   "cell_type": "code",
   "execution_count": 23,
   "metadata": {},
   "outputs": [],
   "source": [
    "trips_grouped = stop_times.groupby('trip_id')['stop_id'].aggregate(list).reset_index()\n",
    "trips_grouped = trips_grouped[trips_grouped.stop_id.str.len() > 1]"
   ]
  },
  {
   "cell_type": "code",
   "execution_count": 24,
   "metadata": {},
   "outputs": [],
   "source": [
    "def make_stop_pairs(stops):\n",
    "    '''\n",
    "        Given a list of stop ids, creates a list of tuples\n",
    "        of consecutive stops\n",
    "    '''\n",
    "    pairs = []\n",
    "    for i in range(1, len(stops)):\n",
    "        pairs.append((stops[i-1], stops[i]))\n",
    "    return pairs"
   ]
  },
  {
   "cell_type": "code",
   "execution_count": 25,
   "metadata": {},
   "outputs": [],
   "source": [
    "# Create edges: corresponds to pairs of consecutive stops\n",
    "edges = trips_grouped['stop_id'].apply(make_stop_pairs).explode()\\\n",
    "                                .map(lambda pair: pair if pair[0] < pair[1] else (pair[1], pair[0]))\n",
    "edges_counts = edges.value_counts()\n",
    "\n",
    "# Build the graph (undirected)\n",
    "G = nx.Graph()\n",
    "\n",
    "# Add nodes with weight = passenger frequency if available\n",
    "for _, row in railway_stops.iterrows():\n",
    "    G.add_node(row.stop_id, name = row.stop_name, lat = row.stop_lat, lon = row.stop_lon, daily_count = row.daily_count)\n",
    "\n",
    "# Add edges with weight = number of trains passing on that edge\n",
    "for edge, count in edges_counts.iteritems():\n",
    "    G.add_edge(edge[0], edge[1], trains_count = count)"
   ]
  },
  {
   "cell_type": "code",
   "execution_count": 26,
   "metadata": {},
   "outputs": [],
   "source": [
    "pickle.dump(G, open('{}/railgraph.pickle'.format(PROCESSED_PATH), 'wb'))\n",
    "pickle.dump(stop_id_to_name, open('{}/stop_id_to_name'.format(PROCESSED_PATH), 'wb'))\n",
    "edges_counts.to_pickle('{}/edges_counts.pickle'.format(PROCESSED_PATH))\n",
    "railway_stops.to_pickle('{}/railway_stops.pickle'.format(PROCESSED_PATH))"
   ]
  },
  {
   "cell_type": "code",
   "execution_count": 27,
   "metadata": {},
   "outputs": [],
   "source": [
    "def scaler(min_, max_, lower, upper):\n",
    "    return lambda x: (((x - min_) * (upper - lower)) / (max_ - min_)) + lower"
   ]
  },
  {
   "cell_type": "code",
   "execution_count": 28,
   "metadata": {},
   "outputs": [],
   "source": [
    "edges_scaler = scaler(edges_counts.min(), edges_counts.max(), 0, 6)\n",
    "nodes_scaler = scaler(railway_stops.daily_count.min(), railway_stops.daily_count.max(), 1, 10)"
   ]
  },
  {
   "cell_type": "code",
   "execution_count": null,
   "metadata": {
    "pycharm": {
     "name": "#%%\n"
    }
   },
   "outputs": [],
   "source": [
    "# Create map to visualize graph\n",
    "m = folium.Map(location=[46.771413, 8.471689], zoom_start = 8, tiles='CartoDB Positron', min_zoom=8)\n",
    "\n",
    "# Draw nodes\n",
    "node_group = folium.FeatureGroup(name=\"Railway Stations\")    \n",
    "for node in G.nodes():\n",
    "    lat, lon = G.nodes[node]['lat'], G.nodes[node]['lon']\n",
    "    count = G.nodes[node]['daily_count']\n",
    "    folium.CircleMarker(\n",
    "        location = [lat, lon],\n",
    "        popup = '{}: {} pax/day'.format(G.nodes[node]['name'], count), \n",
    "        radius = nodes_scaler(count),\n",
    "        opacity = 0.5,\n",
    "        fill = True, \n",
    "        fillOpacity = 0.5,\n",
    "        color = '#2C8C99',\n",
    "        fillColor = '#2C8C99',\n",
    "    ).add_to(node_group)\n",
    "\n",
    "# Draw edges\n",
    "edge_group = folium.FeatureGroup(name=\"Railroads\")\n",
    "for edge in G.edges():\n",
    "    points = [(G.nodes[stop]['lat'], G.nodes[stop]['lon']) for stop in edge]\n",
    "    count = G.edges[edge]['trains_count']\n",
    "    src_name = G.nodes[edge[0]]['name']\n",
    "    dst_name = G.nodes[edge[1]]['name']\n",
    "    folium.PolyLine(points, \n",
    "                    color='#C60018', \n",
    "                    opacity=1, \n",
    "                    weight = edges_scaler(count),\n",
    "                    popup = '{}-{}: {} per day'.format(src_name, dst_name, count)\n",
    "   ).add_to(edge_group)\n",
    "\n",
    "edge_group.add_to(m)\n",
    "node_group.add_to(m)\n",
    "folium.LayerControl().add_to(m)\n",
    "m.save(\"{}/network.html\".format(WEBSITE_PATH))\n",
    "m"
   ]
  },
  {
   "cell_type": "code",
   "execution_count": null,
   "metadata": {},
   "outputs": [],
   "source": []
  }
 ],
 "metadata": {
  "kernelspec": {
   "display_name": "cds",
   "language": "python",
   "name": "cds"
  },
  "language_info": {
   "codemirror_mode": {
    "name": "ipython",
    "version": 3
   },
   "file_extension": ".py",
   "mimetype": "text/x-python",
   "name": "python",
   "nbconvert_exporter": "python",
   "pygments_lexer": "ipython3",
   "version": "3.8.5"
  }
 },
 "nbformat": 4,
 "nbformat_minor": 4
}
