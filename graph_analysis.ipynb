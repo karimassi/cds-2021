{
 "cells": [
  {
   "cell_type": "code",
   "execution_count": 1,
   "metadata": {},
   "outputs": [],
   "source": [
    "import folium\n",
    "import pickle\n",
    "import matplotlib\n",
    "import numpy as np\n",
    "import pandas as pd\n",
    "import networkx as nx\n",
    "import matplotlib.pyplot as plt\n",
    "from utils import linear_scaler"
   ]
  },
  {
   "cell_type": "markdown",
   "metadata": {},
   "source": [
    "# Graph Analysis"
   ]
  },
  {
   "cell_type": "markdown",
   "metadata": {},
   "source": [
    "Now that the graph is partially constructed, let's perform some analysis on it."
   ]
  },
  {
   "cell_type": "code",
   "execution_count": 2,
   "metadata": {},
   "outputs": [],
   "source": [
    "# Start by loading pickled data\n",
    "G = pickle.load(open('data/processed/railgraph.pickle', 'rb'))\n",
    "stop_id_to_name = pickle.load(open('data/processed/stop_id_to_name', 'rb'))\n",
    "edges_counts = pd.read_pickle('data/processed/edges_counts.pickle', )\n",
    "railway_stops = pd.read_pickle('data/processed/railway_stops.pickle')"
   ]
  },
  {
   "cell_type": "code",
   "execution_count": 3,
   "metadata": {},
   "outputs": [],
   "source": [
    "G.remove_nodes_from(list(nx.isolates(G)))"
   ]
  },
  {
   "cell_type": "markdown",
   "metadata": {},
   "source": [
    "## Centrality"
   ]
  },
  {
   "cell_type": "markdown",
   "metadata": {},
   "source": [
    "### Betweenness centrality"
   ]
  },
  {
   "cell_type": "code",
   "execution_count": 4,
   "metadata": {},
   "outputs": [
    {
     "name": "stdout",
     "output_type": "stream",
     "text": [
      "The network's average betweenness centrality is 0.0074.\n",
      "Top 20 stops with the highest betweenness centrality:\n",
      "Olten............... 0.4795\n",
      "Brig................ 0.3930\n",
      "Zürich HB........... 0.3384\n",
      "Zollikofen.......... 0.2799\n",
      "Basel SBB........... 0.2587\n",
      "Münsingen........... 0.2486\n",
      "Bellinzona.......... 0.2277\n",
      "Nyon................ 0.1736\n",
      "Sion................ 0.1692\n",
      "Lausanne............ 0.1669\n",
      "Bern................ 0.1612\n",
      "Amriswil............ 0.1482\n",
      "Sulgen.............. 0.1457\n",
      "Weinfelden.......... 0.1444\n",
      "Ostermundigen....... 0.1301\n",
      "Romanshorn.......... 0.1282\n",
      "Aigle............... 0.1226\n",
      "St. Gallen.......... 0.1209\n",
      "Montreux............ 0.1161\n",
      "Flüelen............. 0.1133\n"
     ]
    }
   ],
   "source": [
    "# Compute betweenness centrality of graph\n",
    "btwn_centrality = nx.betweenness_centrality(G, weight = 'trains_count')\n",
    "\n",
    "# Take top 20, and average\n",
    "btwn_centrality_20 = dict(sorted(btwn_centrality.items(), key=lambda item: - item[1])[:20]).keys()\n",
    "avg_btwn_centrality = np.mean(list(btwn_centrality.values()))\n",
    "\n",
    "print('The network\\'s average betweenness centrality is {:.4f}.'.format(avg_btwn_centrality))\n",
    "print('Top 20 stops with the highest betweenness centrality:')\n",
    "for stop in btwn_centrality_20:\n",
    "    print('{:.<20} {:.4f}'.format(stop_id_to_name[stop], btwn_centrality[stop]))"
   ]
  },
  {
   "cell_type": "markdown",
   "metadata": {},
   "source": [
    "We can see that the 20 most central nodes according to the betweenness centrality are mostly Swiss agglomerations. However, we see some less major cities with a somewhat important centrality: i.e. Visp, Landquart, Ins. These are probably smalles cities through which has to pass because of their geographic localisation: i.e. the stop might be on the intersection of multiple lines for example. "
   ]
  },
  {
   "cell_type": "markdown",
   "metadata": {},
   "source": [
    "### Closeness centrality"
   ]
  },
  {
   "cell_type": "code",
   "execution_count": 5,
   "metadata": {},
   "outputs": [
    {
     "name": "stdout",
     "output_type": "stream",
     "text": [
      "The network's average closeness centrality is 0.0917.\n",
      "Top 20 stops with the highest closeness centrality:\n",
      "Olten............... 0.1629\n",
      "Zürich HB........... 0.1621\n",
      "Bern................ 0.1615\n",
      "Basel SBB........... 0.1588\n",
      "Münsingen........... 0.1511\n",
      "Brig................ 0.1509\n",
      "Aarau............... 0.1505\n",
      "Oensingen........... 0.1489\n",
      "Brugg AG............ 0.1489\n",
      "Fribourg/Freiburg... 0.1479\n",
      "Zürich Altstetten... 0.1476\n",
      "Zollikofen.......... 0.1453\n",
      "Solothurn........... 0.1453\n",
      "Thun................ 0.1452\n",
      "Luzern.............. 0.1443\n",
      "Liestal............. 0.1440\n",
      "Sargans............. 0.1437\n",
      "Zofingen............ 0.1433\n",
      "Burgdorf............ 0.1429\n",
      "Zürich Flughafen.... 0.1429\n"
     ]
    }
   ],
   "source": [
    "clsn_centrality = nx.closeness_centrality(G)\n",
    "\n",
    "clsn_centrality_20 = dict(sorted(clsn_centrality.items(), key=lambda item: - item[1])[:20]).keys()\n",
    "avg_clsn_centrality = np.mean(list(clsn_centrality.values()))\n",
    "\n",
    "print('The network\\'s average closeness centrality is {:.4f}.'.format(avg_clsn_centrality))\n",
    "print('Top 20 stops with the highest closeness centrality:')\n",
    "for stop in clsn_centrality_20:\n",
    "    print('{:.<20} {:.4f}'.format(stop_id_to_name[stop], clsn_centrality[stop]))"
   ]
  },
  {
   "cell_type": "markdown",
   "metadata": {},
   "source": [
    "### Degree centrality"
   ]
  },
  {
   "cell_type": "code",
   "execution_count": 6,
   "metadata": {},
   "outputs": [
    {
     "name": "stdout",
     "output_type": "stream",
     "text": [
      "The network's average degree centrality is 0.0018.\n",
      "Top 20 stops with the highest degree centrality:\n",
      "Zürich HB........... 0.0175\n",
      "Bern................ 0.0169\n",
      "Olten............... 0.0169\n",
      "Luzern.............. 0.0139\n",
      "Lausanne............ 0.0114\n",
      "Arth-Goldau......... 0.0102\n",
      "Basel SBB........... 0.0096\n",
      "Winterthur.......... 0.0090\n",
      "Biel/Bienne......... 0.0090\n",
      "St. Gallen.......... 0.0090\n",
      "Genève.............. 0.0084\n",
      "Aarau............... 0.0084\n",
      "Pfäffikon SZ........ 0.0084\n",
      "Solothurn........... 0.0078\n",
      "Montreux............ 0.0078\n",
      "Zürich Oerlikon..... 0.0072\n",
      "Thun................ 0.0072\n",
      "Chur................ 0.0072\n",
      "Brugg AG............ 0.0072\n",
      "Lugano.............. 0.0072\n"
     ]
    }
   ],
   "source": [
    "degree_centrality = nx.degree_centrality(G)\n",
    "\n",
    "degree_centrality_20 = dict(sorted(degree_centrality.items(), key=lambda item: - item[1])[:20]).keys()\n",
    "avg_degree_centrality = np.mean(list(degree_centrality.values()))\n",
    "\n",
    "print('The network\\'s average degree centrality is {:.4f}.'.format(avg_degree_centrality))\n",
    "print('Top 20 stops with the highest degree centrality:')\n",
    "for stop in degree_centrality_20:\n",
    "    print('{:.<20} {:.4f}'.format(stop_id_to_name[stop], degree_centrality[stop]))"
   ]
  },
  {
   "cell_type": "code",
   "execution_count": 7,
   "metadata": {},
   "outputs": [],
   "source": [
    "nx.set_node_attributes(G, btwn_centrality, 'betweenness_centrality')\n",
    "nx.set_node_attributes(G, clsn_centrality, 'closeness_centrality')\n",
    "nx.set_node_attributes(G, degree_centrality, 'degree_centrality')"
   ]
  },
  {
   "cell_type": "code",
   "execution_count": 8,
   "metadata": {},
   "outputs": [],
   "source": [
    "# Inspired from Cao et al. (2019): combining centralities to \n",
    "# categorize nodes by importance\n",
    "combined_centralities = {}\n",
    "btwn_min, btwn_max = min(btwn_centrality.values()), max(btwn_centrality.values())\n",
    "clsn_min, clsn_max = min(clsn_centrality.values()), max(clsn_centrality.values())\n",
    "degr_min, degr_max = min(degree_centrality.values()), max(degree_centrality.values())\n",
    "\n",
    "for node in G.nodes:\n",
    "    combined_centralities[node] = 0\n",
    "    combined_centralities[node] += (1/3)*(btwn_centrality[node] - btwn_min)/(btwn_max-btwn_min)\n",
    "    combined_centralities[node] += (1/3)*(clsn_centrality[node] - clsn_min)/(clsn_max-clsn_min)\n",
    "    combined_centralities[node] += (1/3)*(degree_centrality[node] - degr_min)/(degr_max-degr_min)"
   ]
  },
  {
   "cell_type": "code",
   "execution_count": 9,
   "metadata": {},
   "outputs": [],
   "source": [
    "from sklearn.preprocessing import KBinsDiscretizer\n",
    "\n",
    "X = sorted(combined_centralities.values(), reverse=True)\n",
    "X = np.array(X).reshape(-1, 1)\n",
    "\n",
    "# Look for 4 levels of importance\n",
    "est = KBinsDiscretizer(n_bins=4, encode='ordinal', strategy='kmeans')\n",
    "\n",
    "node_categories = dict(zip(combined_centralities.keys(), est.fit_transform(X).reshape(-1)))\n",
    "nx.set_node_attributes(G, node_categories, 'category')"
   ]
  },
  {
   "cell_type": "markdown",
   "metadata": {},
   "source": [
    "## Basic statistics"
   ]
  },
  {
   "cell_type": "code",
   "execution_count": 8,
   "metadata": {},
   "outputs": [
    {
     "name": "stdout",
     "output_type": "stream",
     "text": [
      "There are 2514 edges and 1661 nodes in our graph.\n",
      "The density is 0.0018.\n",
      "The graph has 11 connected components. The largest component has size 1558.\n"
     ]
    }
   ],
   "source": [
    "print(f'There are {G.size()} edges and {len(G.nodes)} nodes in our graph.')\n",
    "print('The density is {:.4f}.'.format(nx.density(G)))\n",
    "print('The graph has {} connected components. The largest component has size {}.'.format(nx.number_connected_components(G), len(max(nx.connected_components(G), key = len))))"
   ]
  },
  {
   "cell_type": "code",
   "execution_count": 9,
   "metadata": {},
   "outputs": [
    {
     "name": "stdout",
     "output_type": "stream",
     "text": [
      "The average clustering coefficient is 0.0132.\n",
      "The global efficiency is 0.1068.\n",
      "The min, average and max degrees are 1, 3.0271 and 29 respectively.\n",
      "The degree assortativity is 0.3166.\n"
     ]
    }
   ],
   "source": [
    "average_clustering_coeff = nx.average_clustering(G, weight='trains_count')\n",
    "global_efficiency = nx.global_efficiency(G  )\n",
    "\n",
    "degrees = pd.Series(dict(G.degree()).values())\n",
    "min_degree, avg_degree, max_degree = (degrees.min(), degrees.mean(), degrees.max())\n",
    "\n",
    "assortativity = nx.degree_assortativity_coefficient(G, weight = 'trains_count')\n",
    "\n",
    "print('The average clustering coefficient is {:.4f}.'.format(average_clustering_coeff))\n",
    "print('The global efficiency is {:.4f}.'.format(global_efficiency))\n",
    "print('The min, average and max degrees are {}, {:.4f} and {} respectively.'.format(min_degree, avg_degree, max_degree))\n",
    "print('The degree assortativity is {:.4f}.'.format(assortativity))"
   ]
  },
  {
   "cell_type": "code",
   "execution_count": 10,
   "metadata": {},
   "outputs": [
    {
     "data": {
      "text/plain": [
       "('8503000', 2931)"
      ]
     },
     "execution_count": 10,
     "metadata": {},
     "output_type": "execute_result"
    }
   ],
   "source": [
    "weighted_degrees = pd.Series(dict(G.degree(weight='trains_count')).values())\n",
    "(weighted_degrees.min(), weighted_degrees.mean(), weighted_degrees.max())\n",
    "sorted(G.degree(weight='trains_count'), key=lambda x: x[1], reverse=True)[0]"
   ]
  },
  {
   "cell_type": "code",
   "execution_count": 11,
   "metadata": {},
   "outputs": [
    {
     "name": "stdout",
     "output_type": "stream",
     "text": [
      "There are 11 connected components in our network.\n",
      "The diameter of the largest connected component is 36\n",
      "The average shortest path length of the largest connected component is 10.3190.\n"
     ]
    }
   ],
   "source": [
    "connected_components = list(nx.connected_components(G))\n",
    "largest_cc = G.subgraph(max(connected_components))\n",
    "\n",
    "avg_shortest_path_largest_cc = nx.average_shortest_path_length(largest_cc)\n",
    "diameter_largest_cc = nx.diameter(largest_cc)\n",
    "\n",
    "print('There are {} connected components in our network.'.format(len(connected_components)))\n",
    "print('The diameter of the largest connected component is {}'.format(diameter_largest_cc))\n",
    "print('The average shortest path length of the largest connected component is {:.4f}.'.format(avg_shortest_path_largest_cc))"
   ]
  },
  {
   "cell_type": "markdown",
   "metadata": {},
   "source": [
    "## Degree distribution"
   ]
  },
  {
   "cell_type": "code",
   "execution_count": 28,
   "metadata": {
    "collapsed": false,
    "jupyter": {
     "outputs_hidden": false
    },
    "pycharm": {
     "name": "#%%\n"
    }
   },
   "outputs": [
    {
     "data": {
      "image/png": "[encoded data removed]",
      "text/plain": [
       "<Figure size 432x288 with 1 Axes>"
      ]
     },
     "metadata": {
      "needs_background": "light"
     },
     "output_type": "display_data"
    }
   ],
   "source": [
    "import matplotlib.pyplot as plt\n",
    "\n",
    "hist = nx.degree_histogram(G)\n",
    "\n",
    "plt.bar(range(len(hist)), hist, color = 'red')\n",
    "plt.title('Node degree distribution')\n",
    "plt.xlabel('Degree')\n",
    "plt.ylabel('Count')\n",
    "plt.yscale('log')\n",
    "plt.savefig('./docs/degree_dist.png')\n",
    "plt.show()"
   ]
  },
  {
   "cell_type": "markdown",
   "metadata": {},
   "source": [
    "## Average nearest neighbor degree"
   ]
  },
  {
   "cell_type": "code",
   "execution_count": 29,
   "metadata": {},
   "outputs": [
    {
     "data": {
      "image/png": "[encoded data removed]",
      "text/plain": [
       "<Figure size 432x288 with 1 Axes>"
      ]
     },
     "metadata": {
      "needs_background": "light"
     },
     "output_type": "display_data"
    }
   ],
   "source": [
    "plt.scatter(x = nx.k_nearest_neighbors(G, weight = 'trains_count').keys(), y =nx.k_nearest_neighbors(G, weight = 'trains_count').values(), c = 'red')\n",
    "plt.xlabel('Degree (k)')\n",
    "plt.ylabel('Average nearest neighbor degree')\n",
    "plt.title('Average nearest neighbor degree as a function of node degree')\n",
    "plt.savefig('./docs/avg_nn_deg.png')\n",
    "plt.show()"
   ]
  },
  {
   "cell_type": "markdown",
   "metadata": {},
   "source": [
    "## Small world network"
   ]
  },
  {
   "cell_type": "code",
   "execution_count": 114,
   "metadata": {},
   "outputs": [
    {
     "data": {
      "text/plain": [
       "30.792948356693888"
      ]
     },
     "execution_count": 114,
     "metadata": {},
     "output_type": "execute_result"
    }
   ],
   "source": [
    "# Small world network analysis\n",
    "sigma = nx.sigma(largest_cc, niter=1, nrand=10)\n",
    "sigma"
   ]
  },
  {
   "cell_type": "markdown",
   "metadata": {},
   "source": [
    "## Community detection"
   ]
  },
  {
   "cell_type": "code",
   "execution_count": 11,
   "metadata": {},
   "outputs": [],
   "source": [
    "communities = nx.algorithms.community.greedy_modularity_communities(G)\n",
    "communities = sorted(communities, reverse=True, key=len)\n",
    "\n",
    "for i, comm in enumerate(communities):\n",
    "    for node in comm:\n",
    "        G.nodes[node]['community'] = i\n",
    "\n",
    "cmap = plt.get_cmap('tab10')\n",
    "cmap = [matplotlib.colors.to_hex(cmap(i)) for i in range(cmap.N)]"
   ]
  },
  {
   "cell_type": "code",
   "execution_count": null,
   "metadata": {},
   "outputs": [],
   "source": [
    "m = folium.Map(location=[46.771413, 8.471689], zoom_start = 8, tiles='CartoDB Positron', min_zoom=8)\n",
    "\n",
    "# Draw nodes\n",
    "for node in G.nodes():\n",
    "    lat, lon = G.nodes[node]['lat'], G.nodes[node]['lon']\n",
    "    community = G.nodes[node]['community']\n",
    "    folium.CircleMarker(\n",
    "        location = (lat, lon),\n",
    "        popup = '{}\\nCommunity: {}'.format(G.nodes[node]['name'],  community+1),\n",
    "        radius = 3 if community < 10 else 1,\n",
    "        fill = True,\n",
    "        color = cmap[community] if community < 10 else '#3388ff',\n",
    "        fill_color = cmap[community] if community < 10 else '#3388ff',\n",
    "        opacity = 1 if community < 10  else 0.3,\n",
    "        fill_opacity = 0.3\n",
    "    ).add_to(m)\n",
    "\n",
    "m.save(\"network_communities.html\")\n",
    "m.save('docs/network_communities.html')\n",
    "m"
   ]
  },
  {
   "cell_type": "markdown",
   "metadata": {},
   "source": [
    "## City classification"
   ]
  },
  {
   "cell_type": "code",
   "execution_count": 15,
   "metadata": {},
   "outputs": [],
   "source": [
    "node_category_sizes = {0: 1, 1:1, 2:3, 3:5}\n",
    "node_category_colors = {0: '#444444', 1:'#2C8C99', 2:'#F7D08A', 3:'#C60018'}\n",
    "node_category_opacities = {0: 0.5, 1: 0.5, 2:0.8, 3:1}\n",
    "node_category_names = {0: 'Ultraperipheral', 1: 'Peripherial', 2:'Bridge', 3:'Core'}"
   ]
  },
  {
   "cell_type": "code",
   "execution_count": null,
   "metadata": {
    "tags": []
   },
   "outputs": [],
   "source": [
    "m = folium.Map(location=[46.771413, 8.471689], zoom_start = 8, tiles='CartoDB Positron', min_zoom=8)\n",
    "\n",
    "# Draw nodes\n",
    "for node, data in sorted(G.nodes(data=True), key=lambda x: x[1]['category']):\n",
    "    lat, lon = data['lat'], data['lon']\n",
    "    cat = data['category']\n",
    "    folium.CircleMarker(\n",
    "        location = [lat, lon],\n",
    "        popup = '{}\\n({} city)'.format(data['name'], node_category_names[cat]),\n",
    "        radius = node_category_sizes[cat],\n",
    "        fill = True,\n",
    "        color = node_category_colors[cat],\n",
    "        fill_color = node_category_colors[cat],\n",
    "        opacity = node_category_opacities[cat],\n",
    "        fill_opacity = node_category_opacities[cat]\n",
    "    ).add_to(m)\n",
    "\n",
    "m.save(\"network_nodes_classification.html\")\n",
    "m.save(\"docs/network_nodes_classification.html\")\n",
    "m"
   ]
  },
  {
   "cell_type": "code",
   "execution_count": null,
   "metadata": {},
   "outputs": [],
   "source": []
  }
 ],
 "metadata": {
  "kernelspec": {
   "display_name": "cds",
   "language": "python",
   "name": "cds"
  },
  "language_info": {
   "codemirror_mode": {
    "name": "ipython",
    "version": 3
   },
   "file_extension": ".py",
   "mimetype": "text/x-python",
   "name": "python",
   "nbconvert_exporter": "python",
   "pygments_lexer": "ipython3",
   "version": "3.8.5"
  }
 },
 "nbformat": 4,
 "nbformat_minor": 4
}
