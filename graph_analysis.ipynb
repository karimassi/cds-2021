{
 "cells": [
  {
   "cell_type": "code",
   "execution_count": 1,
   "metadata": {},
   "outputs": [],
   "source": [
    "import folium\n",
    "import pickle\n",
    "import pandas as pd\n",
    "import networkx as nx"
   ]
  },
  {
   "cell_type": "markdown",
   "metadata": {},
   "source": [
    "# Graph Analysis"
   ]
  },
  {
   "cell_type": "markdown",
   "metadata": {},
   "source": [
    "Now that the graph is partially constructed, let's perform some analysis on it."
   ]
  },
  {
   "cell_type": "code",
   "execution_count": 2,
   "metadata": {},
   "outputs": [],
   "source": [
    "# Start by loading pickled data\n",
    "G = pickle.load(open('data/processed/railgraph.pickle', 'rb'))\n",
    "stop_id_to_name = pickle.load(open('data/processed/stop_id_to_name', 'rb'))\n",
    "trips_grouped = pd.read_pickle('data/processed/trips_grouped.pickle')\n",
    "railway_stops = pd.read_pickle('data/processed/railway_stops.pickle')"
   ]
  },
  {
   "cell_type": "markdown",
   "metadata": {},
   "source": [
    "## Betweenness Centrality\n",
    "\n",
    "*TODO: add short description about centrality measure and how it can be interpreted* "
   ]
  },
  {
   "cell_type": "code",
   "execution_count": 3,
   "metadata": {},
   "outputs": [],
   "source": [
    "# Compute betweenness centrality of graph (unweighted)\n",
    "btwn_centrality = nx.betweenness_centrality(G)"
   ]
  },
  {
   "cell_type": "code",
   "execution_count": 4,
   "metadata": {},
   "outputs": [
    {
     "name": "stdout",
     "output_type": "stream",
     "text": [
      "Top 20 stops with the highest betweenness centrality:\n",
      "Zürich HB........... 0.4424\n",
      "Bern................ 0.3523\n",
      "Olten............... 0.2309\n",
      "Lausanne............ 0.2017\n",
      "Fribourg/Freiburg... 0.1965\n",
      "Winterthur.......... 0.1902\n",
      "Landquart........... 0.1146\n",
      "St. Gallen.......... 0.1071\n",
      "Spiez............... 0.1000\n",
      "Montreux............ 0.0919\n",
      "Thun................ 0.0917\n",
      "Chur................ 0.0859\n",
      "Luzern.............. 0.0763\n",
      "Biel/Bienne......... 0.0744\n",
      "Neuchâtel........... 0.0662\n",
      "Aigle............... 0.0605\n",
      "Visp................ 0.0582\n",
      "Arth-Goldau......... 0.0570\n",
      "Yverdon-les-Bains... 0.0566\n",
      "Ins................. 0.0528\n"
     ]
    }
   ],
   "source": [
    "# Take top 20\n",
    "btwn_centrality_20 = dict(sorted(btwn_centrality.items(), key=lambda item: - item[1])[:20]).keys()\n",
    "\n",
    "print('Top 20 stops with the highest betweenness centrality:')\n",
    "for stop in btwn_centrality_20:\n",
    "    print('{:.<20} {:.4f}'.format(stop_id_to_name[stop], btwn_centrality[stop]))"
   ]
  },
  {
   "cell_type": "markdown",
   "metadata": {},
   "source": [
    "We can see that the 20 most central nodes according to the betweenness centrality are mostly Swiss agglomerations. However, we see some less major cities with a somewhat important centrality: i.e. Visp, Landquart, Ins. These are probably smalles cities through which has to pass because of their geographic localisation: i.e. the stop might be on the intersection of multiple lines for example. "
   ]
  },
  {
   "cell_type": "code",
   "execution_count": 5,
   "metadata": {},
   "outputs": [],
   "source": [
    "for node in G.nodes:\n",
    "    G.nodes[node]['centrality'] = btwn_centrality[node]"
   ]
  },
  {
   "cell_type": "code",
   "execution_count": null,
   "metadata": {},
   "outputs": [],
   "source": [
    "# Create map to visualize graph\n",
    "m = folium.Map(location=[46.771413, 8.471689], zoom_start = 8, tiles='CartoDB Positron', height = '80%')\n",
    "\n",
    "# Draw nodes\n",
    "for node in G.nodes():\n",
    "    lat, lon = G.nodes[node]['lat'], G.nodes[node]['lon']\n",
    "    folium.CircleMarker(\n",
    "        location = [lat, lon],\n",
    "        popup = '{}, {}'.format(G.nodes[node]['name'],  G.nodes[node]['centrality']), \n",
    "        radius = 4 if node in btwn_centrality_20 else 1,\n",
    "        color = 'green' if node in btwn_centrality_20 else '#3388ff',\n",
    "        opacity = 1 if node in btwn_centrality_20 else 0.3,\n",
    "        fill = True\n",
    "    ).add_to(m)\n",
    "\n",
    "m.save(\"network_betweenness.html\")\n",
    "m"
   ]
  }
 ],
 "metadata": {
  "kernelspec": {
   "display_name": "cds",
   "language": "python",
   "name": "cds"
  },
  "language_info": {
   "codemirror_mode": {
    "name": "ipython",
    "version": 3
   },
   "file_extension": ".py",
   "mimetype": "text/x-python",
   "name": "python",
   "nbconvert_exporter": "python",
   "pygments_lexer": "ipython3",
   "version": "3.8.5"
  }
 },
 "nbformat": 4,
 "nbformat_minor": 4
}
